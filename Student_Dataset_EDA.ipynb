{
 "cells": [
  {
   "cell_type": "code",
   "execution_count": 1,
   "id": "d65a256c",
   "metadata": {},
   "outputs": [],
   "source": [
    "import pandas as pd\n",
    "import numpy as np\n",
    "import matplotlib.pyplot as plt\n",
    "import seaborn as sns"
   ]
  },
  {
   "cell_type": "code",
   "execution_count": 5,
   "id": "64c2d78a",
   "metadata": {},
   "outputs": [
    {
     "data": {
      "text/html": [
       "<div>\n",
       "<style scoped>\n",
       "    .dataframe tbody tr th:only-of-type {\n",
       "        vertical-align: middle;\n",
       "    }\n",
       "\n",
       "    .dataframe tbody tr th {\n",
       "        vertical-align: top;\n",
       "    }\n",
       "\n",
       "    .dataframe thead th {\n",
       "        text-align: right;\n",
       "    }\n",
       "</style>\n",
       "<table border=\"1\" class=\"dataframe\">\n",
       "  <thead>\n",
       "    <tr style=\"text-align: right;\">\n",
       "      <th></th>\n",
       "      <th>Unnamed: 0</th>\n",
       "      <th>Id</th>\n",
       "      <th>Student_Age</th>\n",
       "      <th>Sex</th>\n",
       "      <th>High_School_Type</th>\n",
       "      <th>Scholarship</th>\n",
       "      <th>Additional_Work</th>\n",
       "      <th>Sports_activity</th>\n",
       "      <th>Transportation</th>\n",
       "      <th>Weekly_Study_Hours</th>\n",
       "      <th>Attendance</th>\n",
       "      <th>Reading</th>\n",
       "      <th>Notes</th>\n",
       "      <th>Listening_in_Class</th>\n",
       "      <th>Project_work</th>\n",
       "      <th>Grade</th>\n",
       "    </tr>\n",
       "  </thead>\n",
       "  <tbody>\n",
       "    <tr>\n",
       "      <th>0</th>\n",
       "      <td>0</td>\n",
       "      <td>5001</td>\n",
       "      <td>21</td>\n",
       "      <td>Male</td>\n",
       "      <td>Other</td>\n",
       "      <td>50%</td>\n",
       "      <td>Yes</td>\n",
       "      <td>No</td>\n",
       "      <td>Private</td>\n",
       "      <td>0</td>\n",
       "      <td>Always</td>\n",
       "      <td>Yes</td>\n",
       "      <td>Yes</td>\n",
       "      <td>No</td>\n",
       "      <td>No</td>\n",
       "      <td>AA</td>\n",
       "    </tr>\n",
       "    <tr>\n",
       "      <th>1</th>\n",
       "      <td>1</td>\n",
       "      <td>5002</td>\n",
       "      <td>20</td>\n",
       "      <td>Male</td>\n",
       "      <td>Other</td>\n",
       "      <td>50%</td>\n",
       "      <td>Yes</td>\n",
       "      <td>No</td>\n",
       "      <td>Private</td>\n",
       "      <td>0</td>\n",
       "      <td>Always</td>\n",
       "      <td>Yes</td>\n",
       "      <td>No</td>\n",
       "      <td>Yes</td>\n",
       "      <td>Yes</td>\n",
       "      <td>AA</td>\n",
       "    </tr>\n",
       "    <tr>\n",
       "      <th>2</th>\n",
       "      <td>2</td>\n",
       "      <td>5003</td>\n",
       "      <td>21</td>\n",
       "      <td>Male</td>\n",
       "      <td>State</td>\n",
       "      <td>50%</td>\n",
       "      <td>No</td>\n",
       "      <td>No</td>\n",
       "      <td>Private</td>\n",
       "      <td>2</td>\n",
       "      <td>Never</td>\n",
       "      <td>No</td>\n",
       "      <td>No</td>\n",
       "      <td>No</td>\n",
       "      <td>Yes</td>\n",
       "      <td>AA</td>\n",
       "    </tr>\n",
       "    <tr>\n",
       "      <th>3</th>\n",
       "      <td>3</td>\n",
       "      <td>5004</td>\n",
       "      <td>18</td>\n",
       "      <td>Female</td>\n",
       "      <td>Private</td>\n",
       "      <td>50%</td>\n",
       "      <td>Yes</td>\n",
       "      <td>No</td>\n",
       "      <td>Bus</td>\n",
       "      <td>2</td>\n",
       "      <td>Always</td>\n",
       "      <td>No</td>\n",
       "      <td>Yes</td>\n",
       "      <td>No</td>\n",
       "      <td>No</td>\n",
       "      <td>AA</td>\n",
       "    </tr>\n",
       "    <tr>\n",
       "      <th>4</th>\n",
       "      <td>4</td>\n",
       "      <td>5005</td>\n",
       "      <td>22</td>\n",
       "      <td>Male</td>\n",
       "      <td>Private</td>\n",
       "      <td>50%</td>\n",
       "      <td>No</td>\n",
       "      <td>No</td>\n",
       "      <td>Bus</td>\n",
       "      <td>12</td>\n",
       "      <td>Always</td>\n",
       "      <td>Yes</td>\n",
       "      <td>No</td>\n",
       "      <td>Yes</td>\n",
       "      <td>Yes</td>\n",
       "      <td>AA</td>\n",
       "    </tr>\n",
       "    <tr>\n",
       "      <th>...</th>\n",
       "      <td>...</td>\n",
       "      <td>...</td>\n",
       "      <td>...</td>\n",
       "      <td>...</td>\n",
       "      <td>...</td>\n",
       "      <td>...</td>\n",
       "      <td>...</td>\n",
       "      <td>...</td>\n",
       "      <td>...</td>\n",
       "      <td>...</td>\n",
       "      <td>...</td>\n",
       "      <td>...</td>\n",
       "      <td>...</td>\n",
       "      <td>...</td>\n",
       "      <td>...</td>\n",
       "      <td>...</td>\n",
       "    </tr>\n",
       "    <tr>\n",
       "      <th>140</th>\n",
       "      <td>140</td>\n",
       "      <td>5141</td>\n",
       "      <td>22</td>\n",
       "      <td>Female</td>\n",
       "      <td>State</td>\n",
       "      <td>50%</td>\n",
       "      <td>Yes</td>\n",
       "      <td>Yes</td>\n",
       "      <td>Private</td>\n",
       "      <td>0</td>\n",
       "      <td>Always</td>\n",
       "      <td>No</td>\n",
       "      <td>Yes</td>\n",
       "      <td>No</td>\n",
       "      <td>Yes</td>\n",
       "      <td>CC</td>\n",
       "    </tr>\n",
       "    <tr>\n",
       "      <th>141</th>\n",
       "      <td>141</td>\n",
       "      <td>5142</td>\n",
       "      <td>18</td>\n",
       "      <td>Female</td>\n",
       "      <td>State</td>\n",
       "      <td>75%</td>\n",
       "      <td>No</td>\n",
       "      <td>No</td>\n",
       "      <td>Private</td>\n",
       "      <td>0</td>\n",
       "      <td>Never</td>\n",
       "      <td>No</td>\n",
       "      <td>Yes</td>\n",
       "      <td>Yes</td>\n",
       "      <td>No</td>\n",
       "      <td>CC</td>\n",
       "    </tr>\n",
       "    <tr>\n",
       "      <th>142</th>\n",
       "      <td>142</td>\n",
       "      <td>5143</td>\n",
       "      <td>18</td>\n",
       "      <td>Female</td>\n",
       "      <td>Private</td>\n",
       "      <td>75%</td>\n",
       "      <td>No</td>\n",
       "      <td>No</td>\n",
       "      <td>Private</td>\n",
       "      <td>0</td>\n",
       "      <td>Always</td>\n",
       "      <td>Yes</td>\n",
       "      <td>No</td>\n",
       "      <td>No</td>\n",
       "      <td>No</td>\n",
       "      <td>AA</td>\n",
       "    </tr>\n",
       "    <tr>\n",
       "      <th>143</th>\n",
       "      <td>143</td>\n",
       "      <td>5144</td>\n",
       "      <td>22</td>\n",
       "      <td>Female</td>\n",
       "      <td>State</td>\n",
       "      <td>75%</td>\n",
       "      <td>Yes</td>\n",
       "      <td>Yes</td>\n",
       "      <td>Bus</td>\n",
       "      <td>12</td>\n",
       "      <td>Sometimes</td>\n",
       "      <td>No</td>\n",
       "      <td>Yes</td>\n",
       "      <td>No</td>\n",
       "      <td>Yes</td>\n",
       "      <td>CB</td>\n",
       "    </tr>\n",
       "    <tr>\n",
       "      <th>144</th>\n",
       "      <td>144</td>\n",
       "      <td>5145</td>\n",
       "      <td>18</td>\n",
       "      <td>Female</td>\n",
       "      <td>Private</td>\n",
       "      <td>100%</td>\n",
       "      <td>No</td>\n",
       "      <td>No</td>\n",
       "      <td>Private</td>\n",
       "      <td>12</td>\n",
       "      <td>Always</td>\n",
       "      <td>Yes</td>\n",
       "      <td>No</td>\n",
       "      <td>Yes</td>\n",
       "      <td>No</td>\n",
       "      <td>BB</td>\n",
       "    </tr>\n",
       "  </tbody>\n",
       "</table>\n",
       "<p>145 rows × 16 columns</p>\n",
       "</div>"
      ],
      "text/plain": [
       "     Unnamed: 0    Id  Student_Age     Sex High_School_Type Scholarship  \\\n",
       "0             0  5001           21    Male            Other         50%   \n",
       "1             1  5002           20    Male            Other         50%   \n",
       "2             2  5003           21    Male            State         50%   \n",
       "3             3  5004           18  Female          Private         50%   \n",
       "4             4  5005           22    Male          Private         50%   \n",
       "..          ...   ...          ...     ...              ...         ...   \n",
       "140         140  5141           22  Female            State         50%   \n",
       "141         141  5142           18  Female            State         75%   \n",
       "142         142  5143           18  Female          Private         75%   \n",
       "143         143  5144           22  Female            State         75%   \n",
       "144         144  5145           18  Female          Private        100%   \n",
       "\n",
       "    Additional_Work Sports_activity Transportation  Weekly_Study_Hours  \\\n",
       "0               Yes              No        Private                   0   \n",
       "1               Yes              No        Private                   0   \n",
       "2                No              No        Private                   2   \n",
       "3               Yes              No            Bus                   2   \n",
       "4                No              No            Bus                  12   \n",
       "..              ...             ...            ...                 ...   \n",
       "140             Yes             Yes        Private                   0   \n",
       "141              No              No        Private                   0   \n",
       "142              No              No        Private                   0   \n",
       "143             Yes             Yes            Bus                  12   \n",
       "144              No              No        Private                  12   \n",
       "\n",
       "    Attendance Reading Notes Listening_in_Class Project_work Grade  \n",
       "0       Always     Yes   Yes                 No           No    AA  \n",
       "1       Always     Yes    No                Yes          Yes    AA  \n",
       "2        Never      No    No                 No          Yes    AA  \n",
       "3       Always      No   Yes                 No           No    AA  \n",
       "4       Always     Yes    No                Yes          Yes    AA  \n",
       "..         ...     ...   ...                ...          ...   ...  \n",
       "140     Always      No   Yes                 No          Yes    CC  \n",
       "141      Never      No   Yes                Yes           No    CC  \n",
       "142     Always     Yes    No                 No           No    AA  \n",
       "143  Sometimes      No   Yes                 No          Yes    CB  \n",
       "144     Always     Yes    No                Yes           No    BB  \n",
       "\n",
       "[145 rows x 16 columns]"
      ]
     },
     "execution_count": 5,
     "metadata": {},
     "output_type": "execute_result"
    }
   ],
   "source": [
    "stud=pd.read_csv(r'C:\\Users\\femif\\Downloads\\student.csv')\n",
    "stud"
   ]
  },
  {
   "cell_type": "code",
   "execution_count": 6,
   "id": "0fcd0282",
   "metadata": {},
   "outputs": [
    {
     "data": {
      "text/plain": [
       "(145, 16)"
      ]
     },
     "execution_count": 6,
     "metadata": {},
     "output_type": "execute_result"
    }
   ],
   "source": [
    "stud.shape"
   ]
  },
  {
   "cell_type": "code",
   "execution_count": 7,
   "id": "ce2a9879",
   "metadata": {},
   "outputs": [
    {
     "data": {
      "text/plain": [
       "2320"
      ]
     },
     "execution_count": 7,
     "metadata": {},
     "output_type": "execute_result"
    }
   ],
   "source": [
    "stud.size"
   ]
  },
  {
   "cell_type": "code",
   "execution_count": 8,
   "id": "fe197d7d",
   "metadata": {},
   "outputs": [],
   "source": [
    "remove_columns=['Unnamed: 0','Id']\n",
    "student=student.drop(columns=remove_columns)\n"
   ]
  },
  {
   "cell_type": "code",
   "execution_count": 9,
   "id": "f1ebab86",
   "metadata": {},
   "outputs": [
    {
     "data": {
      "text/html": [
       "<div>\n",
       "<style scoped>\n",
       "    .dataframe tbody tr th:only-of-type {\n",
       "        vertical-align: middle;\n",
       "    }\n",
       "\n",
       "    .dataframe tbody tr th {\n",
       "        vertical-align: top;\n",
       "    }\n",
       "\n",
       "    .dataframe thead th {\n",
       "        text-align: right;\n",
       "    }\n",
       "</style>\n",
       "<table border=\"1\" class=\"dataframe\">\n",
       "  <thead>\n",
       "    <tr style=\"text-align: right;\">\n",
       "      <th></th>\n",
       "      <th>Student_Age</th>\n",
       "      <th>Sex</th>\n",
       "      <th>High_School_Type</th>\n",
       "      <th>Scholarship</th>\n",
       "      <th>Additional_Work</th>\n",
       "      <th>Sports_activity</th>\n",
       "      <th>Transportation</th>\n",
       "      <th>Weekly_Study_Hours</th>\n",
       "      <th>Attendance</th>\n",
       "      <th>Reading</th>\n",
       "      <th>Notes</th>\n",
       "      <th>Listening_in_Class</th>\n",
       "      <th>Project_work</th>\n",
       "      <th>Grade</th>\n",
       "    </tr>\n",
       "  </thead>\n",
       "  <tbody>\n",
       "    <tr>\n",
       "      <th>0</th>\n",
       "      <td>21</td>\n",
       "      <td>Male</td>\n",
       "      <td>Other</td>\n",
       "      <td>50%</td>\n",
       "      <td>Yes</td>\n",
       "      <td>No</td>\n",
       "      <td>Private</td>\n",
       "      <td>0</td>\n",
       "      <td>Always</td>\n",
       "      <td>Yes</td>\n",
       "      <td>Yes</td>\n",
       "      <td>No</td>\n",
       "      <td>No</td>\n",
       "      <td>AA</td>\n",
       "    </tr>\n",
       "    <tr>\n",
       "      <th>1</th>\n",
       "      <td>20</td>\n",
       "      <td>Male</td>\n",
       "      <td>Other</td>\n",
       "      <td>50%</td>\n",
       "      <td>Yes</td>\n",
       "      <td>No</td>\n",
       "      <td>Private</td>\n",
       "      <td>0</td>\n",
       "      <td>Always</td>\n",
       "      <td>Yes</td>\n",
       "      <td>No</td>\n",
       "      <td>Yes</td>\n",
       "      <td>Yes</td>\n",
       "      <td>AA</td>\n",
       "    </tr>\n",
       "    <tr>\n",
       "      <th>2</th>\n",
       "      <td>21</td>\n",
       "      <td>Male</td>\n",
       "      <td>State</td>\n",
       "      <td>50%</td>\n",
       "      <td>No</td>\n",
       "      <td>No</td>\n",
       "      <td>Private</td>\n",
       "      <td>2</td>\n",
       "      <td>Never</td>\n",
       "      <td>No</td>\n",
       "      <td>No</td>\n",
       "      <td>No</td>\n",
       "      <td>Yes</td>\n",
       "      <td>AA</td>\n",
       "    </tr>\n",
       "    <tr>\n",
       "      <th>3</th>\n",
       "      <td>18</td>\n",
       "      <td>Female</td>\n",
       "      <td>Private</td>\n",
       "      <td>50%</td>\n",
       "      <td>Yes</td>\n",
       "      <td>No</td>\n",
       "      <td>Bus</td>\n",
       "      <td>2</td>\n",
       "      <td>Always</td>\n",
       "      <td>No</td>\n",
       "      <td>Yes</td>\n",
       "      <td>No</td>\n",
       "      <td>No</td>\n",
       "      <td>AA</td>\n",
       "    </tr>\n",
       "    <tr>\n",
       "      <th>4</th>\n",
       "      <td>22</td>\n",
       "      <td>Male</td>\n",
       "      <td>Private</td>\n",
       "      <td>50%</td>\n",
       "      <td>No</td>\n",
       "      <td>No</td>\n",
       "      <td>Bus</td>\n",
       "      <td>12</td>\n",
       "      <td>Always</td>\n",
       "      <td>Yes</td>\n",
       "      <td>No</td>\n",
       "      <td>Yes</td>\n",
       "      <td>Yes</td>\n",
       "      <td>AA</td>\n",
       "    </tr>\n",
       "    <tr>\n",
       "      <th>...</th>\n",
       "      <td>...</td>\n",
       "      <td>...</td>\n",
       "      <td>...</td>\n",
       "      <td>...</td>\n",
       "      <td>...</td>\n",
       "      <td>...</td>\n",
       "      <td>...</td>\n",
       "      <td>...</td>\n",
       "      <td>...</td>\n",
       "      <td>...</td>\n",
       "      <td>...</td>\n",
       "      <td>...</td>\n",
       "      <td>...</td>\n",
       "      <td>...</td>\n",
       "    </tr>\n",
       "    <tr>\n",
       "      <th>140</th>\n",
       "      <td>22</td>\n",
       "      <td>Female</td>\n",
       "      <td>State</td>\n",
       "      <td>50%</td>\n",
       "      <td>Yes</td>\n",
       "      <td>Yes</td>\n",
       "      <td>Private</td>\n",
       "      <td>0</td>\n",
       "      <td>Always</td>\n",
       "      <td>No</td>\n",
       "      <td>Yes</td>\n",
       "      <td>No</td>\n",
       "      <td>Yes</td>\n",
       "      <td>CC</td>\n",
       "    </tr>\n",
       "    <tr>\n",
       "      <th>141</th>\n",
       "      <td>18</td>\n",
       "      <td>Female</td>\n",
       "      <td>State</td>\n",
       "      <td>75%</td>\n",
       "      <td>No</td>\n",
       "      <td>No</td>\n",
       "      <td>Private</td>\n",
       "      <td>0</td>\n",
       "      <td>Never</td>\n",
       "      <td>No</td>\n",
       "      <td>Yes</td>\n",
       "      <td>Yes</td>\n",
       "      <td>No</td>\n",
       "      <td>CC</td>\n",
       "    </tr>\n",
       "    <tr>\n",
       "      <th>142</th>\n",
       "      <td>18</td>\n",
       "      <td>Female</td>\n",
       "      <td>Private</td>\n",
       "      <td>75%</td>\n",
       "      <td>No</td>\n",
       "      <td>No</td>\n",
       "      <td>Private</td>\n",
       "      <td>0</td>\n",
       "      <td>Always</td>\n",
       "      <td>Yes</td>\n",
       "      <td>No</td>\n",
       "      <td>No</td>\n",
       "      <td>No</td>\n",
       "      <td>AA</td>\n",
       "    </tr>\n",
       "    <tr>\n",
       "      <th>143</th>\n",
       "      <td>22</td>\n",
       "      <td>Female</td>\n",
       "      <td>State</td>\n",
       "      <td>75%</td>\n",
       "      <td>Yes</td>\n",
       "      <td>Yes</td>\n",
       "      <td>Bus</td>\n",
       "      <td>12</td>\n",
       "      <td>Sometimes</td>\n",
       "      <td>No</td>\n",
       "      <td>Yes</td>\n",
       "      <td>No</td>\n",
       "      <td>Yes</td>\n",
       "      <td>CB</td>\n",
       "    </tr>\n",
       "    <tr>\n",
       "      <th>144</th>\n",
       "      <td>18</td>\n",
       "      <td>Female</td>\n",
       "      <td>Private</td>\n",
       "      <td>100%</td>\n",
       "      <td>No</td>\n",
       "      <td>No</td>\n",
       "      <td>Private</td>\n",
       "      <td>12</td>\n",
       "      <td>Always</td>\n",
       "      <td>Yes</td>\n",
       "      <td>No</td>\n",
       "      <td>Yes</td>\n",
       "      <td>No</td>\n",
       "      <td>BB</td>\n",
       "    </tr>\n",
       "  </tbody>\n",
       "</table>\n",
       "<p>145 rows × 14 columns</p>\n",
       "</div>"
      ],
      "text/plain": [
       "     Student_Age     Sex High_School_Type Scholarship Additional_Work  \\\n",
       "0             21    Male            Other         50%             Yes   \n",
       "1             20    Male            Other         50%             Yes   \n",
       "2             21    Male            State         50%              No   \n",
       "3             18  Female          Private         50%             Yes   \n",
       "4             22    Male          Private         50%              No   \n",
       "..           ...     ...              ...         ...             ...   \n",
       "140           22  Female            State         50%             Yes   \n",
       "141           18  Female            State         75%              No   \n",
       "142           18  Female          Private         75%              No   \n",
       "143           22  Female            State         75%             Yes   \n",
       "144           18  Female          Private        100%              No   \n",
       "\n",
       "    Sports_activity Transportation  Weekly_Study_Hours Attendance Reading  \\\n",
       "0                No        Private                   0     Always     Yes   \n",
       "1                No        Private                   0     Always     Yes   \n",
       "2                No        Private                   2      Never      No   \n",
       "3                No            Bus                   2     Always      No   \n",
       "4                No            Bus                  12     Always     Yes   \n",
       "..              ...            ...                 ...        ...     ...   \n",
       "140             Yes        Private                   0     Always      No   \n",
       "141              No        Private                   0      Never      No   \n",
       "142              No        Private                   0     Always     Yes   \n",
       "143             Yes            Bus                  12  Sometimes      No   \n",
       "144              No        Private                  12     Always     Yes   \n",
       "\n",
       "    Notes Listening_in_Class Project_work Grade  \n",
       "0     Yes                 No           No    AA  \n",
       "1      No                Yes          Yes    AA  \n",
       "2      No                 No          Yes    AA  \n",
       "3     Yes                 No           No    AA  \n",
       "4      No                Yes          Yes    AA  \n",
       "..    ...                ...          ...   ...  \n",
       "140   Yes                 No          Yes    CC  \n",
       "141   Yes                Yes           No    CC  \n",
       "142    No                 No           No    AA  \n",
       "143   Yes                 No          Yes    CB  \n",
       "144    No                Yes           No    BB  \n",
       "\n",
       "[145 rows x 14 columns]"
      ]
     },
     "execution_count": 9,
     "metadata": {},
     "output_type": "execute_result"
    }
   ],
   "source": [
    "student"
   ]
  },
  {
   "cell_type": "code",
   "execution_count": 11,
   "id": "438102ad",
   "metadata": {},
   "outputs": [
    {
     "data": {
      "text/plain": [
       "Index(['Student_Age', 'Sex', 'High_School_Type', 'Scholarship',\n",
       "       'Additional_Work', 'Sports_activity', 'Transportation',\n",
       "       'Weekly_Study_Hours', 'Attendance', 'Reading', 'Notes',\n",
       "       'Listening_in_Class', 'Project_work', 'Grade'],\n",
       "      dtype='object')"
      ]
     },
     "execution_count": 11,
     "metadata": {},
     "output_type": "execute_result"
    }
   ],
   "source": [
    "student.columns"
   ]
  },
  {
   "cell_type": "code",
   "execution_count": 15,
   "id": "6a6ad3db",
   "metadata": {},
   "outputs": [
    {
     "data": {
      "text/plain": [
       "Male      87\n",
       "Female    58\n",
       "Name: Sex, dtype: int64"
      ]
     },
     "execution_count": 15,
     "metadata": {},
     "output_type": "execute_result"
    }
   ],
   "source": [
    "student['Sex'].value_counts()"
   ]
  },
  {
   "cell_type": "code",
   "execution_count": 16,
   "id": "b5ec486b",
   "metadata": {},
   "outputs": [
    {
     "data": {
      "text/plain": [
       "<Axes: >"
      ]
     },
     "execution_count": 16,
     "metadata": {},
     "output_type": "execute_result"
    },
    {
     "data": {
      "image/png": "[encoded data removed]",
      "text/plain": [
       "<Figure size 640x480 with 1 Axes>"
      ]
     },
     "metadata": {},
     "output_type": "display_data"
    }
   ],
   "source": [
    "student['Sex'].value_counts().plot(kind='bar')"
   ]
  },
  {
   "cell_type": "code",
   "execution_count": 14,
   "id": "3cde4ff5",
   "metadata": {},
   "outputs": [
    {
     "data": {
      "text/plain": [
       "State      103\n",
       "Private     25\n",
       "Other       17\n",
       "Name: High_School_Type, dtype: int64"
      ]
     },
     "execution_count": 14,
     "metadata": {},
     "output_type": "execute_result"
    }
   ],
   "source": [
    "student['High_School_Type'].value_counts()"
   ]
  },
  {
   "cell_type": "code",
   "execution_count": 17,
   "id": "f1b74bc6",
   "metadata": {},
   "outputs": [
    {
     "data": {
      "text/plain": [
       "<Axes: >"
      ]
     },
     "execution_count": 17,
     "metadata": {},
     "output_type": "execute_result"
    },
    {
     "data": {
      "image/png": "[encoded data removed]",
      "text/plain": [
       "<Figure size 640x480 with 1 Axes>"
      ]
     },
     "metadata": {},
     "output_type": "display_data"
    }
   ],
   "source": [
    "student['High_School_Type'].value_counts().plot(kind='bar')"
   ]
  },
  {
   "cell_type": "code",
   "execution_count": 18,
   "id": "e271d2ad",
   "metadata": {},
   "outputs": [
    {
     "name": "stdout",
     "output_type": "stream",
     "text": [
      "<class 'pandas.core.frame.DataFrame'>\n",
      "RangeIndex: 145 entries, 0 to 144\n",
      "Data columns (total 14 columns):\n",
      " #   Column              Non-Null Count  Dtype \n",
      "---  ------              --------------  ----- \n",
      " 0   Student_Age         145 non-null    int64 \n",
      " 1   Sex                 145 non-null    object\n",
      " 2   High_School_Type    145 non-null    object\n",
      " 3   Scholarship         145 non-null    object\n",
      " 4   Additional_Work     145 non-null    object\n",
      " 5   Sports_activity     145 non-null    object\n",
      " 6   Transportation      145 non-null    object\n",
      " 7   Weekly_Study_Hours  145 non-null    int64 \n",
      " 8   Attendance          145 non-null    object\n",
      " 9   Reading             145 non-null    object\n",
      " 10  Notes               145 non-null    object\n",
      " 11  Listening_in_Class  145 non-null    object\n",
      " 12  Project_work        145 non-null    object\n",
      " 13  Grade               145 non-null    object\n",
      "dtypes: int64(2), object(12)\n",
      "memory usage: 16.0+ KB\n"
     ]
    }
   ],
   "source": [
    "student.info()"
   ]
  },
  {
   "cell_type": "code",
   "execution_count": 21,
   "id": "0c094d54",
   "metadata": {},
   "outputs": [
    {
     "name": "stdout",
     "output_type": "stream",
     "text": [
      "Sex, ['Male' 'Female']\n",
      "High_School_Type, ['Other' 'State' 'Private']\n",
      "Scholarship, ['50%' '75%' '100%' '25%' 'None']\n",
      "Additional_Work, ['Yes' 'No']\n",
      "Sports_activity, ['No' 'Yes']\n",
      "Transportation, ['Private' 'Bus']\n",
      "Attendance, ['Always' 'Never' 'Sometimes' '3']\n",
      "Reading, ['Yes' 'No']\n",
      "Notes, ['Yes' 'No' '6']\n",
      "Listening_in_Class, ['No' 'Yes' '6']\n",
      "Project_work, ['No' 'Yes']\n",
      "Grade, ['AA' 'BA' 'CC' 'Fail' 'BB' 'CB' 'DD' 'DC']\n"
     ]
    }
   ],
   "source": [
    "for column in student.select_dtypes(include='object').columns:\n",
    "    print(f\"{column}, {student[column].unique()}\")"
   ]
  },
  {
   "cell_type": "code",
   "execution_count": 23,
   "id": "0931f559",
   "metadata": {},
   "outputs": [
    {
     "data": {
      "text/plain": [
       "<Axes: >"
      ]
     },
     "execution_count": 23,
     "metadata": {},
     "output_type": "execute_result"
    },
    {
     "data": {
      "image/png": "[encoded data removed]",
      "text/plain": [
       "<Figure size 640x480 with 1 Axes>"
      ]
     },
     "metadata": {},
     "output_type": "display_data"
    }
   ],
   "source": [
    "student['Scholarship'].value_counts().plot(kind='bar')"
   ]
  },
  {
   "cell_type": "code",
   "execution_count": 24,
   "id": "de4b642a",
   "metadata": {},
   "outputs": [
    {
     "data": {
      "image/png": "[encoded data removed]",
      "text/plain": [
       "<Figure size 640x480 with 4 Axes>"
      ]
     },
     "metadata": {},
     "output_type": "display_data"
    }
   ],
   "source": [
    "fig, axes = plt.subplots(2,2)\n",
    "for i, column in enumerate(student.select_dtypes(include='number').columns):\n",
    "    if i <= 1:\n",
    "        axes[0][i].boxplot(student[column])\n",
    "        axes[0][i].set_title(f'{column} boxplot')\n",
    "        axes[1][i].hist(student[column])\n",
    "        axes[1][i].set_title(f'{column} histogram')\n",
    "    \n",
    "\n",
    "plt.show()\n"
   ]
  },
  {
   "cell_type": "markdown",
   "id": "cd4d8a31",
   "metadata": {},
   "source": [
    "# Adapting our datset needs"
   ]
  },
  {
   "cell_type": "markdown",
   "id": "1bbf7b71",
   "metadata": {},
   "source": [
    "treating wrong values"
   ]
  },
  {
   "cell_type": "code",
   "execution_count": 27,
   "id": "7caeb142",
   "metadata": {},
   "outputs": [
    {
     "name": "stdout",
     "output_type": "stream",
     "text": [
      "(2, 14)\n",
      "(1, 14)\n",
      "(1, 14)\n",
      "0.027586206896551724\n"
     ]
    }
   ],
   "source": [
    "print(student[student['Notes'] ==  '6'].shape) #two rows with wrong values at Notes\n",
    "print(student[student['Attendance'] == '3'].shape) #one row with wrong value at Attendance\n",
    "print(student[student['Listening_in_Class'] == '6'].shape) #one row with wrong value at Attendance\n",
    "print(4/ student.shape[0]) # 2% of wrong values"
   ]
  },
  {
   "cell_type": "code",
   "execution_count": 32,
   "id": "14cbf579",
   "metadata": {},
   "outputs": [
    {
     "data": {
      "image/png": "[encoded data removed]",
      "text/plain": [
       "<Figure size 640x480 with 3 Axes>"
      ]
     },
     "metadata": {},
     "output_type": "display_data"
    }
   ],
   "source": [
    "fig, axs = plt.subplots(1,3)\n",
    "axs[0].hist(student['Notes'])\n",
    "axs[0].set_title('Notes distribution')\n",
    "\n",
    "axs[1].hist(student['Attendance'])\n",
    "axs[1].set_title('Attendance distribution')\n",
    "\n",
    "axs[2].hist(student['Listening_in_Class'])\n",
    "axs[2].set_title('Listening_in_Class distribution')\n",
    "\n",
    "plt.show()"
   ]
  },
  {
   "cell_type": "markdown",
   "id": "c3d270e6",
   "metadata": {},
   "source": [
    "# changing grades and attendence to numerical values"
   ]
  },
  {
   "cell_type": "code",
   "execution_count": 34,
   "id": "36d6d159",
   "metadata": {},
   "outputs": [
    {
     "data": {
      "text/plain": [
       "Always       98\n",
       "Sometimes    25\n",
       "Never        21\n",
       "3             1\n",
       "Name: Attendance, dtype: int64"
      ]
     },
     "execution_count": 34,
     "metadata": {},
     "output_type": "execute_result"
    }
   ],
   "source": [
    "student['Attendance'].value_counts()"
   ]
  },
  {
   "cell_type": "code",
   "execution_count": 39,
   "id": "872b0230",
   "metadata": {},
   "outputs": [
    {
     "data": {
      "text/plain": [
       "array(['AA', 'BA', 'CC', 'Fail', 'BB', 'CB', 'DD', 'DC'], dtype=object)"
      ]
     },
     "execution_count": 39,
     "metadata": {},
     "output_type": "execute_result"
    }
   ],
   "source": [
    "student['Grade'].unique()"
   ]
  },
  {
   "cell_type": "code",
   "execution_count": 35,
   "id": "953cb27a",
   "metadata": {},
   "outputs": [
    {
     "data": {
      "text/plain": [
       "<Axes: >"
      ]
     },
     "execution_count": 35,
     "metadata": {},
     "output_type": "execute_result"
    },
    {
     "data": {
      "image/png": "[encoded data removed]",
      "text/plain": [
       "<Figure size 640x480 with 1 Axes>"
      ]
     },
     "metadata": {},
     "output_type": "display_data"
    }
   ],
   "source": [
    "student['Grade'].value_counts().plot(kind='bar')"
   ]
  },
  {
   "cell_type": "code",
   "execution_count": 45,
   "id": "0cd11ff6",
   "metadata": {},
   "outputs": [
    {
     "data": {
      "text/plain": [
       "Student_Age            int64\n",
       "Sex                   object\n",
       "High_School_Type      object\n",
       "Scholarship           object\n",
       "Additional_Work       object\n",
       "Sports_activity       object\n",
       "Transportation        object\n",
       "Weekly_Study_Hours     int64\n",
       "Attendance            object\n",
       "Reading               object\n",
       "Notes                 object\n",
       "Listening_in_Class    object\n",
       "Project_work          object\n",
       "Grade                 object\n",
       "dtype: object"
      ]
     },
     "execution_count": 45,
     "metadata": {},
     "output_type": "execute_result"
    }
   ],
   "source": [
    "student.dtypes"
   ]
  },
  {
   "cell_type": "markdown",
   "id": "adb6fc17",
   "metadata": {},
   "source": [
    "# Heat observing correlation"
   ]
  },
  {
   "cell_type": "code",
   "execution_count": 48,
   "id": "aefd19e7",
   "metadata": {},
   "outputs": [
    {
     "data": {
      "text/plain": [
       "<Axes: >"
      ]
     },
     "execution_count": 48,
     "metadata": {},
     "output_type": "execute_result"
    },
    {
     "data": {
      "image/png": "[encoded data removed]",
      "text/plain": [
       "<Figure size 1000x800 with 2 Axes>"
      ]
     },
     "metadata": {},
     "output_type": "display_data"
    }
   ],
   "source": [
    "numerical_columns = student.select_dtypes(include='number').columns\n",
    "corr = student[numerical_columns].corr()\n",
    "plt.figure(figsize=(10, 8)) \n",
    "sns.heatmap(corr, annot=True, cmap=\"crest\")"
   ]
  },
  {
   "cell_type": "markdown",
   "id": "29c213ba",
   "metadata": {},
   "source": [
    "# Exploring more about Weekly_study_Hours"
   ]
  },
  {
   "cell_type": "code",
   "execution_count": 49,
   "id": "a89912b0",
   "metadata": {},
   "outputs": [
    {
     "data": {
      "text/plain": [
       "0     93\n",
       "2     27\n",
       "12    21\n",
       "8      4\n",
       "Name: Weekly_Study_Hours, dtype: int64"
      ]
     },
     "execution_count": 49,
     "metadata": {},
     "output_type": "execute_result"
    }
   ],
   "source": [
    "student['Weekly_Study_Hours'].value_counts()"
   ]
  },
  {
   "cell_type": "code",
   "execution_count": 52,
   "id": "083acaf8",
   "metadata": {},
   "outputs": [
    {
     "data": {
      "text/plain": [
       "State      103\n",
       "Private     25\n",
       "Other       17\n",
       "Name: High_School_Type, dtype: int64"
      ]
     },
     "execution_count": 52,
     "metadata": {},
     "output_type": "execute_result"
    }
   ],
   "source": [
    "student['High_School_Type'].value_counts()"
   ]
  },
  {
   "cell_type": "code",
   "execution_count": 57,
   "id": "9b16dc87",
   "metadata": {},
   "outputs": [
    {
     "ename": "TypeError",
     "evalue": "Neither the `x` nor `y` variable appears to be numeric.",
     "output_type": "error",
     "traceback": [
      "\u001b[1;31m---------------------------------------------------------------------------\u001b[0m",
      "\u001b[1;31mTypeError\u001b[0m                                 Traceback (most recent call last)",
      "Cell \u001b[1;32mIn[57], line 1\u001b[0m\n\u001b[1;32m----> 1\u001b[0m sns\u001b[38;5;241m.\u001b[39mboxplot(data\u001b[38;5;241m=\u001b[39mstudent, x\u001b[38;5;241m=\u001b[39m\u001b[38;5;124m'\u001b[39m\u001b[38;5;124mHigh_School_Type\u001b[39m\u001b[38;5;124m'\u001b[39m, y\u001b[38;5;241m=\u001b[39m\u001b[38;5;124m'\u001b[39m\u001b[38;5;124mGrade\u001b[39m\u001b[38;5;124m'\u001b[39m)\n",
      "File \u001b[1;32m~\\anaconda3\\Lib\\site-packages\\seaborn\\categorical.py:2231\u001b[0m, in \u001b[0;36mboxplot\u001b[1;34m(data, x, y, hue, order, hue_order, orient, color, palette, saturation, width, dodge, fliersize, linewidth, whis, ax, **kwargs)\u001b[0m\n\u001b[0;32m   2224\u001b[0m \u001b[38;5;28;01mdef\u001b[39;00m \u001b[38;5;21mboxplot\u001b[39m(\n\u001b[0;32m   2225\u001b[0m     data\u001b[38;5;241m=\u001b[39m\u001b[38;5;28;01mNone\u001b[39;00m, \u001b[38;5;241m*\u001b[39m, x\u001b[38;5;241m=\u001b[39m\u001b[38;5;28;01mNone\u001b[39;00m, y\u001b[38;5;241m=\u001b[39m\u001b[38;5;28;01mNone\u001b[39;00m, hue\u001b[38;5;241m=\u001b[39m\u001b[38;5;28;01mNone\u001b[39;00m, order\u001b[38;5;241m=\u001b[39m\u001b[38;5;28;01mNone\u001b[39;00m, hue_order\u001b[38;5;241m=\u001b[39m\u001b[38;5;28;01mNone\u001b[39;00m,\n\u001b[0;32m   2226\u001b[0m     orient\u001b[38;5;241m=\u001b[39m\u001b[38;5;28;01mNone\u001b[39;00m, color\u001b[38;5;241m=\u001b[39m\u001b[38;5;28;01mNone\u001b[39;00m, palette\u001b[38;5;241m=\u001b[39m\u001b[38;5;28;01mNone\u001b[39;00m, saturation\u001b[38;5;241m=\u001b[39m\u001b[38;5;241m.75\u001b[39m, width\u001b[38;5;241m=\u001b[39m\u001b[38;5;241m.8\u001b[39m,\n\u001b[0;32m   2227\u001b[0m     dodge\u001b[38;5;241m=\u001b[39m\u001b[38;5;28;01mTrue\u001b[39;00m, fliersize\u001b[38;5;241m=\u001b[39m\u001b[38;5;241m5\u001b[39m, linewidth\u001b[38;5;241m=\u001b[39m\u001b[38;5;28;01mNone\u001b[39;00m, whis\u001b[38;5;241m=\u001b[39m\u001b[38;5;241m1.5\u001b[39m, ax\u001b[38;5;241m=\u001b[39m\u001b[38;5;28;01mNone\u001b[39;00m,\n\u001b[0;32m   2228\u001b[0m     \u001b[38;5;241m*\u001b[39m\u001b[38;5;241m*\u001b[39mkwargs\n\u001b[0;32m   2229\u001b[0m ):\n\u001b[1;32m-> 2231\u001b[0m     plotter \u001b[38;5;241m=\u001b[39m _BoxPlotter(x, y, hue, data, order, hue_order,\n\u001b[0;32m   2232\u001b[0m                           orient, color, palette, saturation,\n\u001b[0;32m   2233\u001b[0m                           width, dodge, fliersize, linewidth)\n\u001b[0;32m   2235\u001b[0m     \u001b[38;5;28;01mif\u001b[39;00m ax \u001b[38;5;129;01mis\u001b[39;00m \u001b[38;5;28;01mNone\u001b[39;00m:\n\u001b[0;32m   2236\u001b[0m         ax \u001b[38;5;241m=\u001b[39m plt\u001b[38;5;241m.\u001b[39mgca()\n",
      "File \u001b[1;32m~\\anaconda3\\Lib\\site-packages\\seaborn\\categorical.py:785\u001b[0m, in \u001b[0;36m_BoxPlotter.__init__\u001b[1;34m(self, x, y, hue, data, order, hue_order, orient, color, palette, saturation, width, dodge, fliersize, linewidth)\u001b[0m\n\u001b[0;32m    781\u001b[0m \u001b[38;5;28;01mdef\u001b[39;00m \u001b[38;5;21m__init__\u001b[39m(\u001b[38;5;28mself\u001b[39m, x, y, hue, data, order, hue_order,\n\u001b[0;32m    782\u001b[0m              orient, color, palette, saturation,\n\u001b[0;32m    783\u001b[0m              width, dodge, fliersize, linewidth):\n\u001b[1;32m--> 785\u001b[0m     \u001b[38;5;28mself\u001b[39m\u001b[38;5;241m.\u001b[39mestablish_variables(x, y, hue, data, orient, order, hue_order)\n\u001b[0;32m    786\u001b[0m     \u001b[38;5;28mself\u001b[39m\u001b[38;5;241m.\u001b[39mestablish_colors(color, palette, saturation)\n\u001b[0;32m    788\u001b[0m     \u001b[38;5;28mself\u001b[39m\u001b[38;5;241m.\u001b[39mdodge \u001b[38;5;241m=\u001b[39m dodge\n",
      "File \u001b[1;32m~\\anaconda3\\Lib\\site-packages\\seaborn\\categorical.py:544\u001b[0m, in \u001b[0;36m_CategoricalPlotter.establish_variables\u001b[1;34m(self, x, y, hue, data, orient, order, hue_order, units)\u001b[0m\n\u001b[0;32m    541\u001b[0m         \u001b[38;5;28;01mraise\u001b[39;00m \u001b[38;5;167;01mValueError\u001b[39;00m(err)\n\u001b[0;32m    543\u001b[0m \u001b[38;5;66;03m# Figure out the plotting orientation\u001b[39;00m\n\u001b[1;32m--> 544\u001b[0m orient \u001b[38;5;241m=\u001b[39m infer_orient(\n\u001b[0;32m    545\u001b[0m     x, y, orient, require_numeric\u001b[38;5;241m=\u001b[39m\u001b[38;5;28mself\u001b[39m\u001b[38;5;241m.\u001b[39mrequire_numeric\n\u001b[0;32m    546\u001b[0m )\n\u001b[0;32m    548\u001b[0m \u001b[38;5;66;03m# Option 2a:\u001b[39;00m\n\u001b[0;32m    549\u001b[0m \u001b[38;5;66;03m# We are plotting a single set of data\u001b[39;00m\n\u001b[0;32m    550\u001b[0m \u001b[38;5;66;03m# ------------------------------------\u001b[39;00m\n\u001b[0;32m    551\u001b[0m \u001b[38;5;28;01mif\u001b[39;00m x \u001b[38;5;129;01mis\u001b[39;00m \u001b[38;5;28;01mNone\u001b[39;00m \u001b[38;5;129;01mor\u001b[39;00m y \u001b[38;5;129;01mis\u001b[39;00m \u001b[38;5;28;01mNone\u001b[39;00m:\n\u001b[0;32m    552\u001b[0m \n\u001b[0;32m    553\u001b[0m     \u001b[38;5;66;03m# Determine where the data are\u001b[39;00m\n",
      "File \u001b[1;32m~\\anaconda3\\Lib\\site-packages\\seaborn\\_oldcore.py:1632\u001b[0m, in \u001b[0;36minfer_orient\u001b[1;34m(x, y, orient, require_numeric)\u001b[0m\n\u001b[0;32m   1630\u001b[0m \u001b[38;5;28;01melif\u001b[39;00m require_numeric \u001b[38;5;129;01mand\u001b[39;00m \u001b[38;5;124m\"\u001b[39m\u001b[38;5;124mnumeric\u001b[39m\u001b[38;5;124m\"\u001b[39m \u001b[38;5;129;01mnot\u001b[39;00m \u001b[38;5;129;01min\u001b[39;00m (x_type, y_type):\n\u001b[0;32m   1631\u001b[0m     err \u001b[38;5;241m=\u001b[39m \u001b[38;5;124m\"\u001b[39m\u001b[38;5;124mNeither the `x` nor `y` variable appears to be numeric.\u001b[39m\u001b[38;5;124m\"\u001b[39m\n\u001b[1;32m-> 1632\u001b[0m     \u001b[38;5;28;01mraise\u001b[39;00m \u001b[38;5;167;01mTypeError\u001b[39;00m(err)\n\u001b[0;32m   1634\u001b[0m \u001b[38;5;28;01melse\u001b[39;00m:\n\u001b[0;32m   1635\u001b[0m     \u001b[38;5;28;01mreturn\u001b[39;00m \u001b[38;5;124m\"\u001b[39m\u001b[38;5;124mv\u001b[39m\u001b[38;5;124m\"\u001b[39m\n",
      "\u001b[1;31mTypeError\u001b[0m: Neither the `x` nor `y` variable appears to be numeric."
     ]
    }
   ],
   "source": [
    "sns.boxplot(data=student, x='High_School_Type', y='Grade')"
   ]
  },
  {
   "cell_type": "code",
   "execution_count": 59,
   "id": "ad154990",
   "metadata": {},
   "outputs": [
    {
     "data": {
      "text/plain": [
       "High_School_Type  Grade\n",
       "Other             AA        6\n",
       "                  CC        4\n",
       "                  BA        2\n",
       "                  DD        2\n",
       "                  BB        1\n",
       "                  CB        1\n",
       "                  DC        1\n",
       "Private           AA        8\n",
       "                  BA        5\n",
       "                  BB        4\n",
       "                  DD        3\n",
       "                  CB        2\n",
       "                  Fail      2\n",
       "                  DC        1\n",
       "State             AA       21\n",
       "                  BA       17\n",
       "                  BB       16\n",
       "                  CC       13\n",
       "                  DD       12\n",
       "                  DC       11\n",
       "                  CB        7\n",
       "                  Fail      6\n",
       "Name: Grade, dtype: int64"
      ]
     },
     "execution_count": 59,
     "metadata": {},
     "output_type": "execute_result"
    }
   ],
   "source": [
    "student.groupby('High_School_Type')['Grade'].value_counts()"
   ]
  },
  {
   "cell_type": "code",
   "execution_count": 69,
   "id": "7af86c49",
   "metadata": {},
   "outputs": [
    {
     "data": {
      "image/png": "[encoded data removed]",
      "text/plain": [
       "<Figure size 640x480 with 1 Axes>"
      ]
     },
     "metadata": {},
     "output_type": "display_data"
    }
   ],
   "source": [
    "student['Student_Age'].hist()\n",
    "plt.title('Age histogram')\n",
    "plt.show()\n"
   ]
  },
  {
   "cell_type": "code",
   "execution_count": 71,
   "id": "c16d8638",
   "metadata": {},
   "outputs": [
    {
     "ename": "TypeError",
     "evalue": "Neither the `x` nor `y` variable appears to be numeric.",
     "output_type": "error",
     "traceback": [
      "\u001b[1;31m---------------------------------------------------------------------------\u001b[0m",
      "\u001b[1;31mTypeError\u001b[0m                                 Traceback (most recent call last)",
      "Cell \u001b[1;32mIn[71], line 1\u001b[0m\n\u001b[1;32m----> 1\u001b[0m sns\u001b[38;5;241m.\u001b[39mboxplot(data\u001b[38;5;241m=\u001b[39mstudent, x\u001b[38;5;241m=\u001b[39m\u001b[38;5;124m'\u001b[39m\u001b[38;5;124mSex\u001b[39m\u001b[38;5;124m'\u001b[39m,y\u001b[38;5;241m=\u001b[39m\u001b[38;5;124m'\u001b[39m\u001b[38;5;124mGrade\u001b[39m\u001b[38;5;124m'\u001b[39m)\n\u001b[0;32m      2\u001b[0m plt\u001b[38;5;241m.\u001b[39mshow()\n",
      "File \u001b[1;32m~\\anaconda3\\Lib\\site-packages\\seaborn\\categorical.py:2231\u001b[0m, in \u001b[0;36mboxplot\u001b[1;34m(data, x, y, hue, order, hue_order, orient, color, palette, saturation, width, dodge, fliersize, linewidth, whis, ax, **kwargs)\u001b[0m\n\u001b[0;32m   2224\u001b[0m \u001b[38;5;28;01mdef\u001b[39;00m \u001b[38;5;21mboxplot\u001b[39m(\n\u001b[0;32m   2225\u001b[0m     data\u001b[38;5;241m=\u001b[39m\u001b[38;5;28;01mNone\u001b[39;00m, \u001b[38;5;241m*\u001b[39m, x\u001b[38;5;241m=\u001b[39m\u001b[38;5;28;01mNone\u001b[39;00m, y\u001b[38;5;241m=\u001b[39m\u001b[38;5;28;01mNone\u001b[39;00m, hue\u001b[38;5;241m=\u001b[39m\u001b[38;5;28;01mNone\u001b[39;00m, order\u001b[38;5;241m=\u001b[39m\u001b[38;5;28;01mNone\u001b[39;00m, hue_order\u001b[38;5;241m=\u001b[39m\u001b[38;5;28;01mNone\u001b[39;00m,\n\u001b[0;32m   2226\u001b[0m     orient\u001b[38;5;241m=\u001b[39m\u001b[38;5;28;01mNone\u001b[39;00m, color\u001b[38;5;241m=\u001b[39m\u001b[38;5;28;01mNone\u001b[39;00m, palette\u001b[38;5;241m=\u001b[39m\u001b[38;5;28;01mNone\u001b[39;00m, saturation\u001b[38;5;241m=\u001b[39m\u001b[38;5;241m.75\u001b[39m, width\u001b[38;5;241m=\u001b[39m\u001b[38;5;241m.8\u001b[39m,\n\u001b[0;32m   2227\u001b[0m     dodge\u001b[38;5;241m=\u001b[39m\u001b[38;5;28;01mTrue\u001b[39;00m, fliersize\u001b[38;5;241m=\u001b[39m\u001b[38;5;241m5\u001b[39m, linewidth\u001b[38;5;241m=\u001b[39m\u001b[38;5;28;01mNone\u001b[39;00m, whis\u001b[38;5;241m=\u001b[39m\u001b[38;5;241m1.5\u001b[39m, ax\u001b[38;5;241m=\u001b[39m\u001b[38;5;28;01mNone\u001b[39;00m,\n\u001b[0;32m   2228\u001b[0m     \u001b[38;5;241m*\u001b[39m\u001b[38;5;241m*\u001b[39mkwargs\n\u001b[0;32m   2229\u001b[0m ):\n\u001b[1;32m-> 2231\u001b[0m     plotter \u001b[38;5;241m=\u001b[39m _BoxPlotter(x, y, hue, data, order, hue_order,\n\u001b[0;32m   2232\u001b[0m                           orient, color, palette, saturation,\n\u001b[0;32m   2233\u001b[0m                           width, dodge, fliersize, linewidth)\n\u001b[0;32m   2235\u001b[0m     \u001b[38;5;28;01mif\u001b[39;00m ax \u001b[38;5;129;01mis\u001b[39;00m \u001b[38;5;28;01mNone\u001b[39;00m:\n\u001b[0;32m   2236\u001b[0m         ax \u001b[38;5;241m=\u001b[39m plt\u001b[38;5;241m.\u001b[39mgca()\n",
      "File \u001b[1;32m~\\anaconda3\\Lib\\site-packages\\seaborn\\categorical.py:785\u001b[0m, in \u001b[0;36m_BoxPlotter.__init__\u001b[1;34m(self, x, y, hue, data, order, hue_order, orient, color, palette, saturation, width, dodge, fliersize, linewidth)\u001b[0m\n\u001b[0;32m    781\u001b[0m \u001b[38;5;28;01mdef\u001b[39;00m \u001b[38;5;21m__init__\u001b[39m(\u001b[38;5;28mself\u001b[39m, x, y, hue, data, order, hue_order,\n\u001b[0;32m    782\u001b[0m              orient, color, palette, saturation,\n\u001b[0;32m    783\u001b[0m              width, dodge, fliersize, linewidth):\n\u001b[1;32m--> 785\u001b[0m     \u001b[38;5;28mself\u001b[39m\u001b[38;5;241m.\u001b[39mestablish_variables(x, y, hue, data, orient, order, hue_order)\n\u001b[0;32m    786\u001b[0m     \u001b[38;5;28mself\u001b[39m\u001b[38;5;241m.\u001b[39mestablish_colors(color, palette, saturation)\n\u001b[0;32m    788\u001b[0m     \u001b[38;5;28mself\u001b[39m\u001b[38;5;241m.\u001b[39mdodge \u001b[38;5;241m=\u001b[39m dodge\n",
      "File \u001b[1;32m~\\anaconda3\\Lib\\site-packages\\seaborn\\categorical.py:544\u001b[0m, in \u001b[0;36m_CategoricalPlotter.establish_variables\u001b[1;34m(self, x, y, hue, data, orient, order, hue_order, units)\u001b[0m\n\u001b[0;32m    541\u001b[0m         \u001b[38;5;28;01mraise\u001b[39;00m \u001b[38;5;167;01mValueError\u001b[39;00m(err)\n\u001b[0;32m    543\u001b[0m \u001b[38;5;66;03m# Figure out the plotting orientation\u001b[39;00m\n\u001b[1;32m--> 544\u001b[0m orient \u001b[38;5;241m=\u001b[39m infer_orient(\n\u001b[0;32m    545\u001b[0m     x, y, orient, require_numeric\u001b[38;5;241m=\u001b[39m\u001b[38;5;28mself\u001b[39m\u001b[38;5;241m.\u001b[39mrequire_numeric\n\u001b[0;32m    546\u001b[0m )\n\u001b[0;32m    548\u001b[0m \u001b[38;5;66;03m# Option 2a:\u001b[39;00m\n\u001b[0;32m    549\u001b[0m \u001b[38;5;66;03m# We are plotting a single set of data\u001b[39;00m\n\u001b[0;32m    550\u001b[0m \u001b[38;5;66;03m# ------------------------------------\u001b[39;00m\n\u001b[0;32m    551\u001b[0m \u001b[38;5;28;01mif\u001b[39;00m x \u001b[38;5;129;01mis\u001b[39;00m \u001b[38;5;28;01mNone\u001b[39;00m \u001b[38;5;129;01mor\u001b[39;00m y \u001b[38;5;129;01mis\u001b[39;00m \u001b[38;5;28;01mNone\u001b[39;00m:\n\u001b[0;32m    552\u001b[0m \n\u001b[0;32m    553\u001b[0m     \u001b[38;5;66;03m# Determine where the data are\u001b[39;00m\n",
      "File \u001b[1;32m~\\anaconda3\\Lib\\site-packages\\seaborn\\_oldcore.py:1632\u001b[0m, in \u001b[0;36minfer_orient\u001b[1;34m(x, y, orient, require_numeric)\u001b[0m\n\u001b[0;32m   1630\u001b[0m \u001b[38;5;28;01melif\u001b[39;00m require_numeric \u001b[38;5;129;01mand\u001b[39;00m \u001b[38;5;124m\"\u001b[39m\u001b[38;5;124mnumeric\u001b[39m\u001b[38;5;124m\"\u001b[39m \u001b[38;5;129;01mnot\u001b[39;00m \u001b[38;5;129;01min\u001b[39;00m (x_type, y_type):\n\u001b[0;32m   1631\u001b[0m     err \u001b[38;5;241m=\u001b[39m \u001b[38;5;124m\"\u001b[39m\u001b[38;5;124mNeither the `x` nor `y` variable appears to be numeric.\u001b[39m\u001b[38;5;124m\"\u001b[39m\n\u001b[1;32m-> 1632\u001b[0m     \u001b[38;5;28;01mraise\u001b[39;00m \u001b[38;5;167;01mTypeError\u001b[39;00m(err)\n\u001b[0;32m   1634\u001b[0m \u001b[38;5;28;01melse\u001b[39;00m:\n\u001b[0;32m   1635\u001b[0m     \u001b[38;5;28;01mreturn\u001b[39;00m \u001b[38;5;124m\"\u001b[39m\u001b[38;5;124mv\u001b[39m\u001b[38;5;124m\"\u001b[39m\n",
      "\u001b[1;31mTypeError\u001b[0m: Neither the `x` nor `y` variable appears to be numeric."
     ]
    }
   ],
   "source": [
    "sns.boxplot(data=student, x='Sex',y='Grade')\n",
    "plt.show()"
   ]
  },
  {
   "cell_type": "code",
   "execution_count": null,
   "id": "8c5bd9d2",
   "metadata": {},
   "outputs": [],
   "source": []
  }
 ],
 "metadata": {
  "kernelspec": {
   "display_name": "Python 3 (ipykernel)",
   "language": "python",
   "name": "python3"
  },
  "language_info": {
   "codemirror_mode": {
    "name": "ipython",
    "version": 3
   },
   "file_extension": ".py",
   "mimetype": "text/x-python",
   "name": "python",
   "nbconvert_exporter": "python",
   "pygments_lexer": "ipython3",
   "version": "3.11.4"
  }
 },
 "nbformat": 4,
 "nbformat_minor": 5
}
